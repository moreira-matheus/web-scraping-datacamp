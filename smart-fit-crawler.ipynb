{
 "cells": [
  {
   "cell_type": "code",
   "execution_count": 1,
   "metadata": {},
   "outputs": [],
   "source": [
    "import time\n",
    "import scrapy\n",
    "from scrapy.crawler import CrawlerProcess\n",
    "from selenium import webdriver"
   ]
  },
  {
   "cell_type": "code",
   "execution_count": 2,
   "metadata": {},
   "outputs": [],
   "source": [
    "items = []"
   ]
  },
  {
   "cell_type": "code",
   "execution_count": 3,
   "metadata": {},
   "outputs": [],
   "source": [
    "class SmartFitSpider(scrapy.Spider):\n",
    "    name = 'smart-fit'\n",
    "    start_urls = ['https://www.smartfit.com.br/unidades']\n",
    "    \n",
    "    def __init__(self):\n",
    "        #options = webdriver.ChromeOptions()\n",
    "        #options.add_argument(\"headless\")\n",
    "        #options.binary_location(r'C:\\Program Files (x86)\\Google\\Chrome\\Application\\chrome.exe')\n",
    "        #self.driver = webdriver.Chrome(executable_path=r'C:\\Users\\Profissional\\Projects\\web-scraping-datacamp\\chromedriver.exe',\n",
    "        #                               options=options)\n",
    "        #time.sleep(3)\n",
    "        \n",
    "        print('Start!')\n",
    "    \n",
    "    def parse(self, response):\n",
    "        locations = response.css('div.Locations__item')\n",
    "        \n",
    "        for location in locations:\n",
    "            item = {}\n",
    "            unit = location.css('h3 > a::text').extract_first()\n",
    "            item['Unidade'] = unit\n",
    "            \n",
    "            plans = location.css('div.Locations__plans__item')\n",
    "            for plan in plans:\n",
    "                plan_name = plan.css('h4::text').extract_first()\n",
    "                integer = plan.css('div.component_location_price__current > div.component_location_price__integer::text').extract_first()\n",
    "                decimal = plan.css('div.component_location_price__current > div.component_location_price__decimal::text').extract_first()\n",
    "                current_price = integer + ',' + decimal\n",
    "                \n",
    "                item[plan_name] = current_price\n",
    "\n",
    "            full_address = location.css('div.Locations__content__wrapper > p.Text::text').extract()\n",
    "            \n",
    "            address, neighborhood = full_address[0].split('-')\n",
    "            address, neighborhood = address[:-1], neighborhood[1:]\n",
    "            \n",
    "            city_state, code = full_address[-1].split('-')\n",
    "            city_state, code = city_state[:-1], code[1:]\n",
    "            \n",
    "            city, state = city_state.split(',')\n",
    "            state = state[1:]\n",
    "            \n",
    "            item['Endereco'] = address\n",
    "            item['Bairro'] = neighborhood\n",
    "            item['Cidade'] = city\n",
    "            item['Estado'] = state\n",
    "            item['CEP'] = code\n",
    "            \n",
    "            items.append(item)\n",
    "            '''\n",
    "            self.driver.get(response.url)\n",
    "            for i in range(4):\n",
    "                load_more = self.driver.find_element_by_css_selector('div.Container--center.js-next-page > button')\n",
    "                try:\n",
    "                    load_more.click()\n",
    "                    time.sleep(5)\n",
    "                    print('CLICOU!')\n",
    "                    time.sleep(5)\n",
    "                except Exception as e:\n",
    "                    print(e)\n",
    "                    break\n",
    "                    \n",
    "            self.driver.quit()\n",
    "            '''"
   ]
  },
  {
   "cell_type": "code",
   "execution_count": 4,
   "metadata": {},
   "outputs": [
    {
     "name": "stderr",
     "output_type": "stream",
     "text": [
      "2019-07-18 14:45:31 [scrapy.utils.log] INFO: Scrapy 1.5.2 started (bot: scrapybot)\n",
      "2019-07-18 14:45:31 [scrapy.utils.log] INFO: Versions: lxml 4.3.2.0, libxml2 2.9.9, cssselect 1.0.3, parsel 1.5.1, w3lib 1.20.0, Twisted 19.2.0, Python 3.7.3 (default, Mar 27 2019, 17:13:21) [MSC v.1915 64 bit (AMD64)], pyOpenSSL 19.0.0 (OpenSSL 1.1.1b  26 Feb 2019), cryptography 2.6.1, Platform Windows-10-10.0.17134-SP0\n",
      "2019-07-18 14:45:31 [scrapy.crawler] INFO: Overridden settings: {}\n",
      "2019-07-18 14:45:31 [scrapy.extensions.telnet] INFO: Telnet Password: 09390662401c28db\n",
      "2019-07-18 14:45:31 [scrapy.middleware] INFO: Enabled extensions:\n",
      "['scrapy.extensions.corestats.CoreStats',\n",
      " 'scrapy.extensions.telnet.TelnetConsole',\n",
      " 'scrapy.extensions.logstats.LogStats']\n",
      "2019-07-18 14:45:31 [scrapy.middleware] INFO: Enabled downloader middlewares:\n",
      "['scrapy.downloadermiddlewares.httpauth.HttpAuthMiddleware',\n",
      " 'scrapy.downloadermiddlewares.downloadtimeout.DownloadTimeoutMiddleware',\n",
      " 'scrapy.downloadermiddlewares.defaultheaders.DefaultHeadersMiddleware',\n",
      " 'scrapy.downloadermiddlewares.useragent.UserAgentMiddleware',\n",
      " 'scrapy.downloadermiddlewares.retry.RetryMiddleware',\n",
      " 'scrapy.downloadermiddlewares.redirect.MetaRefreshMiddleware',\n",
      " 'scrapy.downloadermiddlewares.httpcompression.HttpCompressionMiddleware',\n",
      " 'scrapy.downloadermiddlewares.redirect.RedirectMiddleware',\n",
      " 'scrapy.downloadermiddlewares.cookies.CookiesMiddleware',\n",
      " 'scrapy.downloadermiddlewares.httpproxy.HttpProxyMiddleware',\n",
      " 'scrapy.downloadermiddlewares.stats.DownloaderStats']\n"
     ]
    },
    {
     "name": "stdout",
     "output_type": "stream",
     "text": [
      "Start!\n"
     ]
    },
    {
     "name": "stderr",
     "output_type": "stream",
     "text": [
      "2019-07-18 14:45:31 [scrapy.middleware] INFO: Enabled spider middlewares:\n",
      "['scrapy.spidermiddlewares.httperror.HttpErrorMiddleware',\n",
      " 'scrapy.spidermiddlewares.offsite.OffsiteMiddleware',\n",
      " 'scrapy.spidermiddlewares.referer.RefererMiddleware',\n",
      " 'scrapy.spidermiddlewares.urllength.UrlLengthMiddleware',\n",
      " 'scrapy.spidermiddlewares.depth.DepthMiddleware']\n",
      "2019-07-18 14:45:31 [scrapy.middleware] INFO: Enabled item pipelines:\n",
      "[]\n",
      "2019-07-18 14:45:31 [scrapy.core.engine] INFO: Spider opened\n",
      "2019-07-18 14:45:31 [scrapy.extensions.logstats] INFO: Crawled 0 pages (at 0 pages/min), scraped 0 items (at 0 items/min)\n",
      "2019-07-18 14:45:31 [scrapy.extensions.telnet] DEBUG: Telnet console listening on 127.0.0.1:6023\n",
      "2019-07-18 14:45:34 [scrapy.core.engine] DEBUG: Crawled (200) <GET https://www.smartfit.com.br/unidades> (referer: None)\n",
      "2019-07-18 14:45:34 [scrapy.core.engine] INFO: Closing spider (finished)\n",
      "2019-07-18 14:45:34 [scrapy.statscollectors] INFO: Dumping Scrapy stats:\n",
      "{'downloader/request_bytes': 226,\n",
      " 'downloader/request_count': 1,\n",
      " 'downloader/request_method_count/GET': 1,\n",
      " 'downloader/response_bytes': 175557,\n",
      " 'downloader/response_count': 1,\n",
      " 'downloader/response_status_count/200': 1,\n",
      " 'finish_reason': 'finished',\n",
      " 'finish_time': datetime.datetime(2019, 7, 18, 17, 45, 34, 509129),\n",
      " 'log_count/DEBUG': 2,\n",
      " 'log_count/INFO': 8,\n",
      " 'response_received_count': 1,\n",
      " 'scheduler/dequeued': 1,\n",
      " 'scheduler/dequeued/memory': 1,\n",
      " 'scheduler/enqueued': 1,\n",
      " 'scheduler/enqueued/memory': 1,\n",
      " 'start_time': datetime.datetime(2019, 7, 18, 17, 45, 31, 941963)}\n",
      "2019-07-18 14:45:34 [scrapy.core.engine] INFO: Spider closed (finished)\n"
     ]
    }
   ],
   "source": [
    "process = CrawlerProcess()\n",
    "process.crawl(SmartFitSpider)\n",
    "process.start()"
   ]
  },
  {
   "cell_type": "code",
   "execution_count": 5,
   "metadata": {},
   "outputs": [
    {
     "data": {
      "text/plain": [
       "[{'Unidade': 'Shopping Del Rey',\n",
       "  'Plano Smart': '69,90',\n",
       "  'Plano Black': '99,90',\n",
       "  'Endereco': 'Avenida Presidente Carlos Luz, 3001',\n",
       "  'Bairro': 'Caiçara',\n",
       "  'Cidade': 'Belo Horizonte',\n",
       "  'Estado': 'MG',\n",
       "  'CEP': '31250010'},\n",
       " {'Unidade': 'Castelo',\n",
       "  'Plano Smart': '0,00',\n",
       "  'Plano Black': '0,00',\n",
       "  'Endereco': 'Avenida Presidente Tancredo Neves, 2403',\n",
       "  'Bairro': 'Vila Paquetá',\n",
       "  'Cidade': 'Belo Horizonte',\n",
       "  'Estado': 'MG',\n",
       "  'CEP': '31330472'},\n",
       " {'Unidade': 'Centro',\n",
       "  'Plano Smart': '39,90',\n",
       "  'Plano Black': '39,90',\n",
       "  'Endereco': 'Avenida Amazonas, 303',\n",
       "  'Bairro': 'Centro',\n",
       "  'Cidade': 'Belo Horizonte',\n",
       "  'Estado': 'MG',\n",
       "  'CEP': '30180000'},\n",
       " {'Unidade': 'Gutierrez ',\n",
       "  'Plano Smart': '39,90',\n",
       "  'Plano Black': '39,90',\n",
       "  'Endereco': 'Rua André Cavalcanti, 190',\n",
       "  'Bairro': 'Gutierrez',\n",
       "  'Cidade': 'Belo Horizonte',\n",
       "  'Estado': 'MG',\n",
       "  'CEP': '30441014'},\n",
       " {'Unidade': 'Rua Rio de Janeiro',\n",
       "  'Plano Smart': '39,90',\n",
       "  'Plano Black': '39,90',\n",
       "  'Endereco': 'Rua Rio de Janeiro, 1893',\n",
       "  'Bairro': 'Lourdes',\n",
       "  'Cidade': 'Belo Horizonte',\n",
       "  'Estado': 'MG',\n",
       "  'CEP': '30160042'},\n",
       " {'Unidade': 'Extra Minas',\n",
       "  'Plano Smart': '39,90',\n",
       "  'Plano Black': '39,90',\n",
       "  'Endereco': 'Av. Cristiano Machado, 4000',\n",
       "  'Bairro': 'União',\n",
       "  'Cidade': 'Belo Horizonte',\n",
       "  'Estado': 'MG',\n",
       "  'CEP': '31110230'},\n",
       " {'Unidade': 'Minas Shopping',\n",
       "  'Plano Smart': '0,00',\n",
       "  'Plano Black': '0,00',\n",
       "  'Endereco': 'Avenida Cristiano Machado, 4000',\n",
       "  'Bairro': 'União',\n",
       "  'Cidade': 'Belo Horizonte',\n",
       "  'Estado': 'MG',\n",
       "  'CEP': '31160900'},\n",
       " {'Unidade': 'Rua Sergipe',\n",
       "  'Plano Smart': '39,90',\n",
       "  'Plano Black': '39,90',\n",
       "  'Endereco': 'Rua Sergipe, 1208',\n",
       "  'Bairro': 'Savassi',\n",
       "  'Cidade': 'Belo Horizonte',\n",
       "  'Estado': 'MG',\n",
       "  'CEP': '30130171'}]"
      ]
     },
     "execution_count": 5,
     "metadata": {},
     "output_type": "execute_result"
    }
   ],
   "source": [
    "items"
   ]
  },
  {
   "cell_type": "code",
   "execution_count": null,
   "metadata": {},
   "outputs": [],
   "source": []
  },
  {
   "cell_type": "code",
   "execution_count": null,
   "metadata": {},
   "outputs": [],
   "source": []
  },
  {
   "cell_type": "code",
   "execution_count": null,
   "metadata": {},
   "outputs": [],
   "source": []
  }
 ],
 "metadata": {
  "kernelspec": {
   "display_name": "Python 3",
   "language": "python",
   "name": "python3"
  },
  "language_info": {
   "codemirror_mode": {
    "name": "ipython",
    "version": 3
   },
   "file_extension": ".py",
   "mimetype": "text/x-python",
   "name": "python",
   "nbconvert_exporter": "python",
   "pygments_lexer": "ipython3",
   "version": "3.7.3"
  }
 },
 "nbformat": 4,
 "nbformat_minor": 2
}
