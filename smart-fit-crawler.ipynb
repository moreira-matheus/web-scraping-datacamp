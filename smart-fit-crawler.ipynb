{
 "cells": [
  {
   "cell_type": "code",
   "execution_count": 1,
   "metadata": {},
   "outputs": [],
   "source": [
    "import time\n",
    "import scrapy\n",
    "from scrapy.crawler import CrawlerProcess\n",
    "from selenium import webdriver\n",
    "from selenium.webdriver.support.ui import WebDriverWait\n",
    "from selenium.webdriver.common.by import By\n",
    "from selenium.webdriver.support import expected_conditions as ec\n",
    "from selenium.webdriver.common.action_chains import ActionChains"
   ]
  },
  {
   "cell_type": "code",
   "execution_count": 2,
   "metadata": {},
   "outputs": [],
   "source": [
    "items = []"
   ]
  },
  {
   "cell_type": "code",
   "execution_count": 3,
   "metadata": {},
   "outputs": [],
   "source": [
    "class SmartFitSpider(scrapy.Spider):\n",
    "    name = 'smart-fit'\n",
    "    start_urls = ['https://www.smartfit.com.br/unidades']\n",
    "    \n",
    "    def __init__(self):\n",
    "        self.options = webdriver.ChromeOptions()\n",
    "        self.options.add_argument('--headless') \n",
    "\n",
    "    def parse(self, response):\n",
    "        locations = response.css('div.Locations__item')\n",
    "        \n",
    "        for location in locations:\n",
    "            item = {}\n",
    "            unit = location.css('h3 > a::text').extract_first()\n",
    "            item['Unidade'] = unit\n",
    "            \n",
    "            plans = location.css('div.Locations__plans__item')\n",
    "            for plan in plans:\n",
    "                plan_name = plan.css('h4::text').extract_first()\n",
    "                integer = plan.css('div.component_location_price__current > div.component_location_price__integer::text').extract_first()\n",
    "                decimal = plan.css('div.component_location_price__current > div.component_location_price__decimal::text').extract_first()\n",
    "                current_price = integer + ',' + decimal\n",
    "                \n",
    "                item[plan_name] = current_price\n",
    "\n",
    "            full_address = location.css('div.Locations__content__wrapper > p.Text::text').extract()\n",
    "            \n",
    "            address, neighborhood = full_address[0].split('-')\n",
    "            address, neighborhood = address[:-1], neighborhood[1:]\n",
    "            \n",
    "            city_state, code = full_address[-1].split('-')\n",
    "            city_state, code = city_state[:-1], code[1:]\n",
    "            \n",
    "            city, state = city_state.split(',')\n",
    "            state = state[1:]\n",
    "            \n",
    "            item['Endereco'] = address\n",
    "            item['Bairro'] = neighborhood\n",
    "            item['Cidade'] = city\n",
    "            item['Estado'] = state\n",
    "            item['CEP'] = code\n",
    "            \n",
    "            yield item\n",
    "            \n",
    "            driver = webdriver.Chrome('../chromedriver.exe', options=self.options)\n",
    "            driver.get(response.url)\n",
    "            \n",
    "            wait=  WebDriverWait(driver, 10)\n",
    "            print('LETS TRY %%%%%%%%%%%%%%%%%%%%%%%%%%%%%%%%%%%%%%%%%')\n",
    "            load_more = wait.until(ec.presence_of_element_located((By.XPATH, \"//button[@class='Button Button--link js-next-page-button']\")))\n",
    "            #load_more = driver.find_element_by_css_selector('body > div.wrap-results-container.js-wrap-results-container > section > div > div > div.Container--center.js-next-page > button')\n",
    "            print('HALF WAY *************************************')\n",
    "            load_more.click()\n",
    "            time.sleep(5)\n",
    "            print('YEAH! ################################')\n",
    "\n",
    "            driver.close()"
   ]
  },
  {
   "cell_type": "code",
   "execution_count": 4,
   "metadata": {},
   "outputs": [
    {
     "name": "stderr",
     "output_type": "stream",
     "text": [
      "2019-07-21 22:23:07 [scrapy.utils.log] INFO: Scrapy 1.5.2 started (bot: scrapybot)\n",
      "2019-07-21 22:23:07 [scrapy.utils.log] INFO: Versions: lxml 4.3.2.0, libxml2 2.9.9, cssselect 1.0.3, parsel 1.5.1, w3lib 1.20.0, Twisted 19.2.0, Python 3.7.3 (default, Mar 27 2019, 17:13:21) [MSC v.1915 64 bit (AMD64)], pyOpenSSL 19.0.0 (OpenSSL 1.1.1b  26 Feb 2019), cryptography 2.6.1, Platform Windows-10-10.0.17134-SP0\n",
      "2019-07-21 22:23:07 [scrapy.crawler] INFO: Overridden settings: {}\n",
      "2019-07-21 22:23:07 [scrapy.extensions.telnet] INFO: Telnet Password: 90eeb13154e961bc\n",
      "2019-07-21 22:23:07 [scrapy.middleware] INFO: Enabled extensions:\n",
      "['scrapy.extensions.corestats.CoreStats',\n",
      " 'scrapy.extensions.telnet.TelnetConsole',\n",
      " 'scrapy.extensions.logstats.LogStats']\n",
      "2019-07-21 22:23:07 [scrapy.middleware] INFO: Enabled downloader middlewares:\n",
      "['scrapy.downloadermiddlewares.httpauth.HttpAuthMiddleware',\n",
      " 'scrapy.downloadermiddlewares.downloadtimeout.DownloadTimeoutMiddleware',\n",
      " 'scrapy.downloadermiddlewares.defaultheaders.DefaultHeadersMiddleware',\n",
      " 'scrapy.downloadermiddlewares.useragent.UserAgentMiddleware',\n",
      " 'scrapy.downloadermiddlewares.retry.RetryMiddleware',\n",
      " 'scrapy.downloadermiddlewares.redirect.MetaRefreshMiddleware',\n",
      " 'scrapy.downloadermiddlewares.httpcompression.HttpCompressionMiddleware',\n",
      " 'scrapy.downloadermiddlewares.redirect.RedirectMiddleware',\n",
      " 'scrapy.downloadermiddlewares.cookies.CookiesMiddleware',\n",
      " 'scrapy.downloadermiddlewares.httpproxy.HttpProxyMiddleware',\n",
      " 'scrapy.downloadermiddlewares.stats.DownloaderStats']\n",
      "2019-07-21 22:23:07 [scrapy.middleware] INFO: Enabled spider middlewares:\n",
      "['scrapy.spidermiddlewares.httperror.HttpErrorMiddleware',\n",
      " 'scrapy.spidermiddlewares.offsite.OffsiteMiddleware',\n",
      " 'scrapy.spidermiddlewares.referer.RefererMiddleware',\n",
      " 'scrapy.spidermiddlewares.urllength.UrlLengthMiddleware',\n",
      " 'scrapy.spidermiddlewares.depth.DepthMiddleware']\n",
      "2019-07-21 22:23:07 [scrapy.middleware] INFO: Enabled item pipelines:\n",
      "[]\n",
      "2019-07-21 22:23:07 [scrapy.core.engine] INFO: Spider opened\n",
      "2019-07-21 22:23:07 [scrapy.extensions.logstats] INFO: Crawled 0 pages (at 0 pages/min), scraped 0 items (at 0 items/min)\n",
      "2019-07-21 22:23:07 [scrapy.extensions.telnet] DEBUG: Telnet console listening on 127.0.0.1:6023\n",
      "2019-07-21 22:23:10 [scrapy.core.engine] DEBUG: Crawled (200) <GET https://www.smartfit.com.br/unidades> (referer: None)\n",
      "2019-07-21 22:23:10 [scrapy.core.scraper] DEBUG: Scraped from <200 https://www.smartfit.com.br/unidades>\n",
      "{'Unidade': 'Shopping Del Rey', 'Plano Smart': '69,90', 'Plano Black': '99,90', 'Endereco': 'Avenida Presidente Carlos Luz, 3001', 'Bairro': 'Caiçara', 'Cidade': 'Belo Horizonte', 'Estado': 'MG', 'CEP': '31250010'}\n",
      "2019-07-21 22:23:11 [selenium.webdriver.remote.remote_connection] DEBUG: POST http://127.0.0.1:65044/session {\"capabilities\": {\"firstMatch\": [{}], \"alwaysMatch\": {\"browserName\": \"chrome\", \"platformName\": \"any\", \"goog:chromeOptions\": {\"extensions\": [], \"args\": [\"--headless\"]}}}, \"desiredCapabilities\": {\"browserName\": \"chrome\", \"version\": \"\", \"platform\": \"ANY\", \"goog:chromeOptions\": {\"extensions\": [], \"args\": [\"--headless\"]}}}\n",
      "2019-07-21 22:23:11 [urllib3.connectionpool] DEBUG: Starting new HTTP connection (1): 127.0.0.1:65044\n",
      "2019-07-21 22:23:13 [urllib3.connectionpool] DEBUG: http://127.0.0.1:65044 \"POST /session HTTP/1.1\" 200 682\n",
      "2019-07-21 22:23:13 [selenium.webdriver.remote.remote_connection] DEBUG: Finished Request\n",
      "2019-07-21 22:23:13 [selenium.webdriver.remote.remote_connection] DEBUG: POST http://127.0.0.1:65044/session/14d09c459a17d18fc5bd24fee2330a76/url {\"url\": \"https://www.smartfit.com.br/unidades\"}\n",
      "2019-07-21 22:23:51 [urllib3.connectionpool] DEBUG: http://127.0.0.1:65044 \"POST /session/14d09c459a17d18fc5bd24fee2330a76/url HTTP/1.1\" 200 14\n",
      "2019-07-21 22:23:51 [selenium.webdriver.remote.remote_connection] DEBUG: Finished Request\n",
      "2019-07-21 22:23:51 [selenium.webdriver.remote.remote_connection] DEBUG: POST http://127.0.0.1:65044/session/14d09c459a17d18fc5bd24fee2330a76/element {\"using\": \"xpath\", \"value\": \"//button[@class='Button Button--link js-next-page-button']\"}\n",
      "2019-07-21 22:23:51 [urllib3.connectionpool] DEBUG: http://127.0.0.1:65044 \"POST /session/14d09c459a17d18fc5bd24fee2330a76/element HTTP/1.1\" 200 88\n",
      "2019-07-21 22:23:51 [selenium.webdriver.remote.remote_connection] DEBUG: Finished Request\n",
      "2019-07-21 22:23:51 [selenium.webdriver.remote.remote_connection] DEBUG: POST http://127.0.0.1:65044/session/14d09c459a17d18fc5bd24fee2330a76/element/3a1f8832-c4f9-4cb8-905a-5eeb9dccde22/click {\"id\": \"3a1f8832-c4f9-4cb8-905a-5eeb9dccde22\"}\n",
      "2019-07-21 22:23:51 [urllib3.connectionpool] DEBUG: http://127.0.0.1:65044 \"POST /session/14d09c459a17d18fc5bd24fee2330a76/element/3a1f8832-c4f9-4cb8-905a-5eeb9dccde22/click HTTP/1.1\" 400 1426\n",
      "2019-07-21 22:23:51 [selenium.webdriver.remote.remote_connection] DEBUG: Finished Request\n",
      "2019-07-21 22:23:51 [scrapy.core.scraper] ERROR: Spider error processing <GET https://www.smartfit.com.br/unidades> (referer: None)\n",
      "Traceback (most recent call last):\n",
      "  File \"C:\\Users\\Profissional\\Anaconda3\\lib\\site-packages\\scrapy\\utils\\defer.py\", line 102, in iter_errback\n",
      "    yield next(it)\n",
      "  File \"C:\\Users\\Profissional\\Anaconda3\\lib\\site-packages\\scrapy\\spidermiddlewares\\offsite.py\", line 30, in process_spider_output\n",
      "    for x in result:\n",
      "  File \"C:\\Users\\Profissional\\Anaconda3\\lib\\site-packages\\scrapy\\spidermiddlewares\\referer.py\", line 339, in <genexpr>\n",
      "    return (_set_referer(r) for r in result or ())\n",
      "  File \"C:\\Users\\Profissional\\Anaconda3\\lib\\site-packages\\scrapy\\spidermiddlewares\\urllength.py\", line 37, in <genexpr>\n",
      "    return (r for r in result or () if _filter(r))\n",
      "  File \"C:\\Users\\Profissional\\Anaconda3\\lib\\site-packages\\scrapy\\spidermiddlewares\\depth.py\", line 58, in <genexpr>\n",
      "    return (r for r in result or () if _filter(r))\n",
      "  File \"<ipython-input-3-35dab711e10a>\", line 53, in parse\n",
      "    load_more.click()\n",
      "  File \"C:\\Users\\Profissional\\Anaconda3\\lib\\site-packages\\selenium\\webdriver\\remote\\webelement.py\", line 80, in click\n",
      "    self._execute(Command.CLICK_ELEMENT)\n",
      "  File \"C:\\Users\\Profissional\\Anaconda3\\lib\\site-packages\\selenium\\webdriver\\remote\\webelement.py\", line 633, in _execute\n",
      "    return self._parent.execute(command, params)\n",
      "  File \"C:\\Users\\Profissional\\Anaconda3\\lib\\site-packages\\selenium\\webdriver\\remote\\webdriver.py\", line 321, in execute\n",
      "    self.error_handler.check_response(response)\n",
      "  File \"C:\\Users\\Profissional\\Anaconda3\\lib\\site-packages\\selenium\\webdriver\\remote\\errorhandler.py\", line 242, in check_response\n",
      "    raise exception_class(message, screen, stacktrace)\n",
      "selenium.common.exceptions.ElementClickInterceptedException: Message: element click intercepted: Element <button class=\"Button Button--link js-next-page-button\" data-next-page=\"2\">...</button> is not clickable at point (391, 592). Other element would receive the click: <section class=\"grid js-search-results-container search-results-container\">...</section>\n",
      "  (Session info: headless chrome=75.0.3770.142)\n",
      "\n",
      "2019-07-21 22:23:51 [scrapy.core.engine] INFO: Closing spider (finished)\n",
      "2019-07-21 22:23:51 [scrapy.statscollectors] INFO: Dumping Scrapy stats:\n",
      "{'downloader/request_bytes': 226,\n",
      " 'downloader/request_count': 1,\n",
      " 'downloader/request_method_count/GET': 1,\n",
      " 'downloader/response_bytes': 175594,\n",
      " 'downloader/response_count': 1,\n",
      " 'downloader/response_status_count/200': 1,\n",
      " 'finish_reason': 'finished',\n",
      " 'finish_time': datetime.datetime(2019, 7, 22, 1, 23, 51, 983670),\n",
      " 'item_scraped_count': 1,\n",
      " 'log_count/DEBUG': 16,\n",
      " 'log_count/ERROR': 1,\n",
      " 'log_count/INFO': 8,\n",
      " 'response_received_count': 1,\n",
      " 'scheduler/dequeued': 1,\n",
      " 'scheduler/dequeued/memory': 1,\n",
      " 'scheduler/enqueued': 1,\n",
      " 'scheduler/enqueued/memory': 1,\n",
      " 'spider_exceptions/ElementClickInterceptedException': 1,\n",
      " 'start_time': datetime.datetime(2019, 7, 22, 1, 23, 7, 630252)}\n",
      "2019-07-21 22:23:51 [scrapy.core.engine] INFO: Spider closed (finished)\n"
     ]
    },
    {
     "name": "stdout",
     "output_type": "stream",
     "text": [
      "LETS TRY %%%%%%%%%%%%%%%%%%%%%%%%%%%%%%%%%%%%%%%%%\n",
      "HALF WAY *************************************\n"
     ]
    }
   ],
   "source": [
    "process = CrawlerProcess()\n",
    "process.crawl(SmartFitSpider)\n",
    "process.start()"
   ]
  },
  {
   "cell_type": "code",
   "execution_count": 5,
   "metadata": {},
   "outputs": [
    {
     "data": {
      "text/plain": [
       "[]"
      ]
     },
     "execution_count": 5,
     "metadata": {},
     "output_type": "execute_result"
    }
   ],
   "source": [
    "items"
   ]
  },
  {
   "cell_type": "code",
   "execution_count": null,
   "metadata": {},
   "outputs": [],
   "source": []
  },
  {
   "cell_type": "code",
   "execution_count": null,
   "metadata": {},
   "outputs": [],
   "source": []
  },
  {
   "cell_type": "code",
   "execution_count": null,
   "metadata": {},
   "outputs": [],
   "source": []
  }
 ],
 "metadata": {
  "kernelspec": {
   "display_name": "Python 3",
   "language": "python",
   "name": "python3"
  },
  "language_info": {
   "codemirror_mode": {
    "name": "ipython",
    "version": 3
   },
   "file_extension": ".py",
   "mimetype": "text/x-python",
   "name": "python",
   "nbconvert_exporter": "python",
   "pygments_lexer": "ipython3",
   "version": "3.7.3"
  }
 },
 "nbformat": 4,
 "nbformat_minor": 2
}
