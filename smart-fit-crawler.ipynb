{
 "cells": [
  {
   "cell_type": "code",
   "execution_count": 1,
   "metadata": {},
   "outputs": [],
   "source": [
    "import scrapy\n",
    "from scrapy.crawler import CrawlerProcess\n",
    "from selenium import webdriver"
   ]
  },
  {
   "cell_type": "code",
   "execution_count": 2,
   "metadata": {},
   "outputs": [],
   "source": [
    "items = []"
   ]
  },
  {
   "cell_type": "code",
   "execution_count": 3,
   "metadata": {},
   "outputs": [],
   "source": [
    "class SmartFitSpider(scrapy.Spider):\n",
    "    name = 'smart-fit'\n",
    "    start_urls = ['https://www.smartfit.com.br/unidades']\n",
    "\n",
    "    def parse(self, response):\n",
    "        locations = response.css('div.Locations__item')\n",
    "        \n",
    "        for location in locations:\n",
    "            item = {}\n",
    "            unit = location.css('h3 > a::text').extract_first()\n",
    "            item['Unidade'] = unit\n",
    "            \n",
    "            plans = location.css('div.Locations__plans__item')\n",
    "            for plan in plans:\n",
    "                plan_name = plan.css('h4::text').extract_first()\n",
    "                integer = plan.css('div.component_location_price__current > div.component_location_price__integer::text').extract_first()\n",
    "                decimal = plan.css('div.component_location_price__current > div.component_location_price__decimal::text').extract_first()\n",
    "                current_price = integer + ',' + decimal\n",
    "                \n",
    "                item[plan_name] = current_price\n",
    "\n",
    "            full_address = location.css('div.Locations__content__wrapper > p.Text::text').extract()\n",
    "            \n",
    "            address, neighborhood = full_address[0].split('-')\n",
    "            address, neighborhood = address[:-1], neighborhood[1:]\n",
    "            \n",
    "            city_state, code = full_address[-1].split('-')\n",
    "            city_state, code = city_state[:-1], code[1:]\n",
    "            \n",
    "            city, state = city_state.split(',')\n",
    "            state = state[1:]\n",
    "            \n",
    "            item['Endereco'] = address\n",
    "            item['Bairro'] = neighborhood\n",
    "            item['Cidade'] = city\n",
    "            item['Estado'] = state\n",
    "            item['CEP'] = code\n",
    "            \n",
    "            items.append(item)"
   ]
  },
  {
   "cell_type": "code",
   "execution_count": 4,
   "metadata": {},
   "outputs": [
    {
     "name": "stderr",
     "output_type": "stream",
     "text": [
      "2019-07-18 17:04:38 [scrapy.utils.log] INFO: Scrapy 1.5.2 started (bot: scrapybot)\n",
      "2019-07-18 17:04:38 [scrapy.utils.log] INFO: Versions: lxml 4.3.2.0, libxml2 2.9.9, cssselect 1.0.3, parsel 1.5.1, w3lib 1.20.0, Twisted 19.2.0, Python 3.7.3 (default, Mar 27 2019, 17:13:21) [MSC v.1915 64 bit (AMD64)], pyOpenSSL 19.0.0 (OpenSSL 1.1.1b  26 Feb 2019), cryptography 2.6.1, Platform Windows-10-10.0.17134-SP0\n",
      "2019-07-18 17:04:38 [scrapy.crawler] INFO: Overridden settings: {}\n",
      "2019-07-18 17:04:38 [scrapy.extensions.telnet] INFO: Telnet Password: 3871d62ec27c3de4\n",
      "2019-07-18 17:04:38 [scrapy.middleware] INFO: Enabled extensions:\n",
      "['scrapy.extensions.corestats.CoreStats',\n",
      " 'scrapy.extensions.telnet.TelnetConsole',\n",
      " 'scrapy.extensions.logstats.LogStats']\n",
      "2019-07-18 17:04:39 [selenium.webdriver.remote.remote_connection] DEBUG: POST http://127.0.0.1:51116/session {\"capabilities\": {\"firstMatch\": [{}], \"alwaysMatch\": {\"browserName\": \"chrome\", \"platformName\": \"any\", \"goog:chromeOptions\": {\"extensions\": [], \"args\": [\"headless\"]}}}, \"desiredCapabilities\": {\"browserName\": \"chrome\", \"version\": \"\", \"platform\": \"ANY\", \"goog:chromeOptions\": {\"extensions\": [], \"args\": [\"headless\"]}}}\n",
      "2019-07-18 17:04:39 [urllib3.connectionpool] DEBUG: Starting new HTTP connection (1): 127.0.0.1:51116\n",
      "2019-07-18 17:04:40 [urllib3.connectionpool] DEBUG: http://127.0.0.1:51116 \"POST /session HTTP/1.1\" 500 979\n",
      "2019-07-18 17:04:40 [selenium.webdriver.remote.remote_connection] DEBUG: Finished Request\n"
     ]
    }
   ],
   "source": [
    "process = CrawlerProcess()\n",
    "process.crawl(SmartFitSpider)\n",
    "process.start()"
   ]
  },
  {
   "cell_type": "code",
   "execution_count": 5,
   "metadata": {},
   "outputs": [
    {
     "data": {
      "text/plain": [
       "[]"
      ]
     },
     "execution_count": 5,
     "metadata": {},
     "output_type": "execute_result"
    }
   ],
   "source": [
    "items"
   ]
  },
  {
   "cell_type": "code",
   "execution_count": null,
   "metadata": {},
   "outputs": [],
   "source": []
  },
  {
   "cell_type": "code",
   "execution_count": null,
   "metadata": {},
   "outputs": [],
   "source": []
  },
  {
   "cell_type": "code",
   "execution_count": null,
   "metadata": {},
   "outputs": [],
   "source": []
  }
 ],
 "metadata": {
  "kernelspec": {
   "display_name": "Python 3",
   "language": "python",
   "name": "python3"
  },
  "language_info": {
   "codemirror_mode": {
    "name": "ipython",
    "version": 3
   },
   "file_extension": ".py",
   "mimetype": "text/x-python",
   "name": "python",
   "nbconvert_exporter": "python",
   "pygments_lexer": "ipython3",
   "version": "3.7.3"
  }
 },
 "nbformat": 4,
 "nbformat_minor": 2
}
